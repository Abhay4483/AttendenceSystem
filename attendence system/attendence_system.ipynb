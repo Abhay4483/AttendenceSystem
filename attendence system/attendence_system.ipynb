{
 "cells": [
  {
   "cell_type": "code",
   "execution_count": 1,
   "metadata": {},
   "outputs": [],
   "source": [
    "#importing required libraries\n",
    "import face_recognition as fc\n",
    "import cv2\n",
    "import numpy as np\n",
    "import pandas as pd\n",
    "import time"
   ]
  },
  {
   "cell_type": "code",
   "execution_count": 2,
   "metadata": {},
   "outputs": [],
   "source": [
    "# let's store students details in our csv file.\n",
    "#So, it will only recognize the person whose data entry is stored in csv file.\n",
    "# Here, i am importing face_recognition library for recognizing the face and storing path of student picture and their face encodings \n",
    "#So that we can comapre live student encoding with the encodings stored in database or csv file.\n",
    "i=fc.load_image_file(\"Abhay.jpeg\")\n",
    "j=fc.load_image_file(\"himanshu.jpg\")\n",
    "k=fc.load_image_file(\"asif.jpeg\")\n",
    "l=fc.load_image_file(\"Harshita.jpeg\")\n",
    "fla=fc.face_locations(i)\n",
    "flb=fc.face_locations(j)\n",
    "flc=fc.face_locations(k)\n",
    "fld=fc.face_locations(l)\n",
    "e1=fc.face_encodings(i,fla)[0]\n",
    "e2=fc.face_encodings(j,flb)[0]\n",
    "e3=fc.face_encodings(k,flc)[0]\n",
    "e4=fc.face_encodings(l,fld)[0]\n",
    "#students name\n",
    "n1='Abhay Agarwal'\n",
    "n2='Himanshu Surana'\n",
    "n3='Asif Khan'\n",
    "n4='Harshita Agarwal'\n",
    "# students photos path\n",
    "p1='Abhay.jpeg'\n",
    "p2='himanshu.jpg'\n",
    "p3='asif.jpeg'\n",
    "p4='Harshita.jpeg'\n",
    "#students mail id\n",
    "id1='abhayagarwal4483@gmail.com'\n",
    "id2='himanshusurana7@gmail.com'\n",
    "id3='asifk4468@gmail.com'\n",
    "id4='harshitaagarwal330@gmail.com'\n",
    "id=[id1,id2,id3,id4]"
   ]
  },
  {
   "cell_type": "code",
   "execution_count": 3,
   "metadata": {},
   "outputs": [],
   "source": [
    "# strftime function is used to mark the the attendence at exact date and time \n",
    "d=time.strftime(\"%d/%m/%Y\")\n",
    "t=time.strftime(\"%H:%M:%S\")"
   ]
  },
  {
   "cell_type": "code",
   "execution_count": 4,
   "metadata": {},
   "outputs": [],
   "source": [
    "#Now we are storing student details in Dictionary. Also, initially we are marking every student is Absent 'A'. As, soon it's image is captured , 'A' is replaced by 'P' and present is marked and store in csv file.\n",
    "\n",
    "details = {'name':[n1,n2,n3,n4],'path':[p1,p2,p3,p4],'encoding':[e1,e2,e3,e4],'date':[d,d,d,d],'time':[t,t,t,t],'attendence':['A','A','A','A'],'emailid':[id1,id2,id3,id4]}\n",
    "\n",
    "# Now, we are converting the dictionary where student details are stored in dataframe.\n",
    "# SO,DataFrame is nothing but an in-memory representation of an excel sheet via Python programming language\n",
    "\n",
    "student=pd.DataFrame(details,columns = ['name','path','encoding','date','time','attendence','emailid'])"
   ]
  },
  {
   "cell_type": "code",
   "execution_count": 6,
   "metadata": {},
   "outputs": [],
   "source": [
    "# Now we are sending all the above student details to 'attendence_report.csv' file.\n",
    "#if it is not created, then it will automatically created as soon this program run and interpreter reach to this line.\n",
    "data = student.to_csv('attendence_report.csv')"
   ]
  },
  {
   "cell_type": "code",
   "execution_count": 7,
   "metadata": {},
   "outputs": [
    {
     "name": "stdout",
     "output_type": "stream",
     "text": [
      "enter any key to start the camera \n"
     ]
    }
   ],
   "source": [
    "#Now, we are asking student to press any key to start the camera.\n",
    "ask=input(\"enter any key to start the camera \")"
   ]
  },
  {
   "cell_type": "code",
   "execution_count": 8,
   "metadata": {},
   "outputs": [
    {
     "name": "stdout",
     "output_type": "stream",
     "text": [
      "[False, False, False, True]\n",
      "Harshita Agarwal\n",
      "[False, False, False, True]\n",
      "Harshita Agarwal\n",
      "[False, False, False, True]\n",
      "Harshita Agarwal\n",
      "[False, False, False, True]\n",
      "Harshita Agarwal\n",
      "[False, False, False, True]\n",
      "Harshita Agarwal\n",
      "[False, False, False, True]\n",
      "Harshita Agarwal\n",
      "[False, False, False, True]\n",
      "Harshita Agarwal\n",
      "[False, False, False, True]\n",
      "Harshita Agarwal\n",
      "[False, False, False, True]\n",
      "Harshita Agarwal\n",
      "[False, False, False, True]\n",
      "Harshita Agarwal\n",
      "[True, False, False, False]\n",
      "Abhay Agarwal\n",
      "[False, False, False, False]\n",
      "[False, False, False, False]\n",
      "[True, False, False, False]\n",
      "Abhay Agarwal\n",
      "[True, False, False, False]\n",
      "Abhay Agarwal\n"
     ]
    }
   ],
   "source": [
    "#Now, we capturing the student from camera.\n",
    "#And we are using in built camera for capturing the live image, that's why 0 is written\n",
    "# If you want to use yor mobile camera for capturing the live image then, instead of writting 0,\n",
    "#we can use webcam app and use its ip\n",
    "v=cv2.VideoCapture(0)\n",
    "e=[e1,e2,e3,e4]\n",
    "name=[n1,n2,n3,n4]\n",
    "while True:\n",
    "    r,live=v.read()\n",
    "    #face_recognition has built in functions to perform face detection, recognition and identification tasks.\n",
    "    #face_location function returns the array of number of faces with their location in the image.\n",
    "    #First, we will load the image into a NumPy array and apply face_location function. \n",
    "    #Using the location of each face, we will draw a red color rectangle  around the face.\n",
    "    fL=fc.face_locations(live)\n",
    "    if(len(fL)>0):   \n",
    "        [x1,y1,x2,y2]=fL[0]\n",
    "        cv2.rectangle(live,(y2,x1),(y1,x2),(0,0,255),5)\n",
    "        E=fc.face_encodings(live,fL)[0]\n",
    "        res=fc.compare_faces(e,E)\n",
    "        print(res)\n",
    "        r=True in res\n",
    "        if r==True:\n",
    "            print(name[res.index(True)])\n",
    "            cv2.putText(live,name[res.index(True)],(y2,x1),cv2.FONT_HERSHEY_SIMPLEX,1.0,(200,255,255))\n",
    "        \n",
    "        cv2.imshow('image',live)\n",
    "        \n",
    "        k=cv2.waitKey(5)\n",
    "        \n",
    "        if(k==ord('q')):\n",
    "            cv2.destroyAllWindows()\n",
    "            break\n",
    "            "
   ]
  },
  {
   "cell_type": "code",
   "execution_count": 12,
   "metadata": {},
   "outputs": [
    {
     "name": "stdout",
     "output_type": "stream",
     "text": [
      "   Unnamed: 0              name           path  \\\n",
      "0           0     Abhay Agarwal     Abhay.jpeg   \n",
      "1           1   Himanshu Surana   himanshu.jpg   \n",
      "2           2         Asif Khan      asif.jpeg   \n",
      "3           3  Harshita Agarwal  Harshita.jpeg   \n",
      "\n",
      "                                            encoding        date      time  \\\n",
      "0  [-0.20660767  0.08031534  0.07119016 -0.062071...  02/12/2020  00:53:35   \n",
      "1  [-0.15221842  0.09242808  0.04709347 -0.051602...  02/12/2020  00:53:35   \n",
      "2  [-0.20874029  0.12104049  0.05504651 -0.005694...  02/12/2020  00:53:35   \n",
      "3  [-0.06868455  0.00902244  0.01848384 -0.102904...  02/12/2020  00:53:35   \n",
      "\n",
      "  attendence                       emailid  \n",
      "0          P    abhayagarwal4483@gmail.com  \n",
      "1          A     himanshusurana7@gmail.com  \n",
      "2          A           asifk4468@gmail.com  \n",
      "3          A  harshitaagarwal330@gmail.com  \n"
     ]
    }
   ],
   "source": [
    "#for marking attendence\n",
    "        \n",
    "df=pd.read_csv(\"attendence_report.csv\")\n",
    "\n",
    "for live in range(len(df['name'])):\n",
    "    df.loc[live,'name']=name[live]\n",
    "df.loc[res.index(True),\"attendence\"]='P'\n",
    "print(df)\n",
    "pd.DataFrame(df,index=[0,1,2,3])\n",
    "df.to_csv(\"attendence_report.csv\",index=False)\n",
    "\n"
   ]
  },
  {
   "cell_type": "code",
   "execution_count": 13,
   "metadata": {},
   "outputs": [],
   "source": [
    "#importing libraries for sending mail\n",
    "\n",
    "import smtplib\n",
    "from email.mime.multipart import MIMEMultipart\n",
    "from email.mime.text import MIMEText\n",
    "from email.mime.base import MIMEBase\n",
    "from email import encoders"
   ]
  },
  {
   "cell_type": "code",
   "execution_count": null,
   "metadata": {},
   "outputs": [],
   "source": [
    "mail_content = \"Attendence Report\"\n",
    "#The mail addresses and password\n",
    "sender_address = 'abhayagarwal4483@gmail.com'\n",
    "sender_pass = input('enter password: ')\n",
    "receiver_address = 'harshitaagarwal330@gmail.com'\n",
    "#Setup the MIME\n",
    "message = MIMEMultipart()\n",
    "message['From'] = 'abhayagarwal4483@gmail.com'\n",
    "message['To'] = 'harshitaagarwal330@gmail.com'\n",
    "message['Subject'] = \"Today's Attendence Report\"\n",
    "\n",
    "#The body and the attachments for the mail\n",
    "message.attach(MIMEText(mail_content, 'plain'))\n",
    "attach_file_name = 'attendence_report.csv'\n",
    "\n",
    "# Open the file as binary mode\n",
    "attach_file = open(attach_file_name, 'rb') \n",
    "payload = MIMEBase('application', 'octate-stream')\n",
    "payload.set_payload((attach_file).read())\n",
    "\n",
    "#encode the attachment\n",
    "encoders.encode_base64(payload)\n",
    "#add payload header with filename\n",
    "payload.add_header('Content-Decomposition', 'attachment', filename=attach_file_name)\n",
    "message.attach(payload)\n",
    "\n",
    "#Create SMTP session for sending the mail\n",
    "session = smtplib.SMTP('smtp.gmail.com', 587) #use gmail with port\n",
    "session.starttls() #enable security\n",
    "session.login(sender_address, sender_pass) #login with mail_id and password\n",
    "text = message.as_string()\n",
    "session.sendmail(sender_address, receiver_address, text)\n",
    "session.quit()\n",
    "print('Mail Sent')"
   ]
  },
  {
   "cell_type": "code",
   "execution_count": null,
   "metadata": {},
   "outputs": [],
   "source": []
  }
 ],
 "metadata": {
  "kernelspec": {
   "display_name": "Python 3",
   "language": "python",
   "name": "python3"
  },
  "language_info": {
   "codemirror_mode": {
    "name": "ipython",
    "version": 3
   },
   "file_extension": ".py",
   "mimetype": "text/x-python",
   "name": "python",
   "nbconvert_exporter": "python",
   "pygments_lexer": "ipython3",
   "version": "3.7.1"
  }
 },
 "nbformat": 4,
 "nbformat_minor": 2
}
